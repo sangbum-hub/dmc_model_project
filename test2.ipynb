{
 "cells": [
  {
   "cell_type": "markdown",
   "metadata": {},
   "source": [
    "# 데이터 정제"
   ]
  },
  {
   "cell_type": "code",
   "execution_count": 30,
   "metadata": {},
   "outputs": [],
   "source": [
    "import numpy as np\n",
    "import pandas as pd \n",
    "from settings import *\n",
    "\n",
    "from sklearn.model_selection import train_test_split\n",
    "\n",
    "info_list = glob.glob(f'{DATA_DIR}/info/*.csv')\n",
    "\n",
    "df_2021_pre = pd.read_csv(info_list[0])\n",
    "df_2021_sta = pd.read_csv(info_list[1])\n",
    "df_2022_pre = pd.read_csv(info_list[2])\n",
    "df_2022_sta = pd.read_csv(info_list[3])"
   ]
  },
  {
   "cell_type": "code",
   "execution_count": 31,
   "metadata": {},
   "outputs": [],
   "source": [
    "# import pandas as pd\n",
    "# df = pd.read_csv('./data/info/val_table2022_pre.csv')"
   ]
  },
  {
   "cell_type": "code",
   "execution_count": 32,
   "metadata": {},
   "outputs": [],
   "source": [
    "def func1(data):\n",
    "    return data.replace(\"\\n\",\"\").replace('\\t','').replace(',','')"
   ]
  },
  {
   "cell_type": "code",
   "execution_count": 33,
   "metadata": {},
   "outputs": [],
   "source": [
    "df_list = [df_2021_pre, df_2021_sta, df_2022_pre, df_2022_sta]"
   ]
  },
  {
   "cell_type": "code",
   "execution_count": 34,
   "metadata": {},
   "outputs": [
    {
     "data": {
      "text/plain": [
       "Index(['번호', '사업자등록번호', '법인번호', '기업명', '고객 세그먼트', 'label', '가치제안', 'label.1',\n",
       "       '마케팅채널', 'label.2', '고객관계', 'label.3', '수익원', 'label.4', '핵심활동',\n",
       "       'label.5', '핵심자원', 'label.6', '핵심파트너', 'label.7', '비용구조', 'label.8'],\n",
       "      dtype='object')"
      ]
     },
     "execution_count": 34,
     "metadata": {},
     "output_type": "execute_result"
    }
   ],
   "source": [
    "df_2021_pre.columns"
   ]
  },
  {
   "cell_type": "code",
   "execution_count": 35,
   "metadata": {},
   "outputs": [
    {
     "data": {
      "text/plain": [
       "0     국내 Celebrity 섭외 방안1. 오우석 팀원의 인플루언서 지인들과 계약 협의를...\n",
       "1      안드로이드 앱- iOS 앱- YOUTUBE- Instagram Facebook t...\n",
       "2     SNS·유튜브를 통한 마케팅 앱 내 유저바이럴을 이용한 마케팅1) SNS·유튜브를 ...\n",
       "3     직접 판매 간접 판매전국 초중학교 영업 지자체별 안전교육센터(안테나샾 역할) 나라장...\n",
       "4           구글 플레이스토어 애플 앱스토어 인터넷 배너광고페이스북 인스타그램 구글애드센스\n",
       "5     B2B 영업을 위한 프랜차이즈 본사 고객 밀접 채널 확보한국프랜차이즈산업협회 아프니...\n",
       "6     유튜브채널과 제휴. 유튜버를 스토리작가 및 주인공으로 한 작품 제작. 30여개의 유...\n",
       "7     영업 인력을 통한 판매 설명회 유치 행사를 통한 판매 SNS(카카오톡 채널인스타그램...\n",
       "8     정부지원사업 바우처 제공 스타트업 지원 영업 교육 콘텐츠 서비스 이용후기 콘텐츠 구...\n",
       "9     직접 판매 간접 판매 (대리점 활용/유통 업체 활용 등)B2B영업 직접 판매 MWC...\n",
       "10    직접 판매 간접 판매 (대리점 활용/유통 업체 활용 등)로봇 대리점 일부 고객사를 ...\n",
       "11    구글플레이를 통한 판매자체 디자이너가 제작한 인스타그램 홍보 및 블로그 카드뉴스 제...\n",
       "12                              직접 판매안드로이드 iOS 유튜브 페이스북\n",
       "13    수의사 폐쇄 네트워크대표가 수의사 출신으로 수의사 폐쇄 네트워크 접근동물병원 영업/...\n",
       "14    회원유치 및 서비스의 레퍼런스 확보1 대한변호사협회 각지방회 한국청년변호사 협회 등...\n",
       "15    키워드 마케팅 및 영업▶ 네이버/구글 기술 영업 TF 구축 직접 판매위주로 시스템 ...\n",
       "16    아티스트 및 광고주 SNS 채널 활용아티스트와 광고주(브랜드)의 SNS 채널을 활용...\n",
       "17            직간접 판매 대여초기 대여 및 무료 체험 으로 제품 홍보후 악기사에 대리판\n",
       "18              자사몰 활용각종 SNS 트위치 아프리카TV 유튜브 카페 각 커뮤니팅 등\n",
       "19    유튜브  SNS 채널 블로그  자사 홈페이지제작한 콘텐츠에 연관된 다양한 콘텐츠 제...\n",
       "20    판매 중계 플랫폼 앱/웹 바이럴SNS(페이스북 인스타) 유튜브 영상 광고 네이버 블...\n",
       "21    1) 국내 반려동물 온라인 카페2) SNS1) ‘강사모’‘냥이네’와 같은 국내 반려...\n",
       "22          페이스북 인스타그램등의 SNS 홍보썸네일 이미지등을 통한 교육콘텐츠 효과 제공\n",
       "23    1. 오픈소스 프로젝트 담당자를 통한 마케팅- 1개의 프로젝트당 평균 30~40명의...\n",
       "24     앱 플랫폼을 통한 앱스토어 플레이스토어 등 마케팅유튜브 틱톡 등 동영상 기반 채널 마케\n",
       "25              직접 판매국내 정부기관 주관 사업 해외 국가(베트남 태국 등) 민간 기\n",
       "26    직접판매 간접판매(대리점 전시장활용 / 조달청 해경군 조달계약)해군 해경 군납 관련...\n",
       "27    직접 판매 간접 판매 (대리점 활용/유통 업체 활용 등)페이스북 구글 검색 콜드메일...\n",
       "28    직접 판매 간접 판매1) 자사몰 판매콘텐츠 마케팅:퍼포먼스 마케팅:NAVER kak...\n",
       "29    온라인 채널 활용1) SNS (Facebook/Instagram) 마케팅2) 인플루...\n",
       "30    ZZANN 자사몰 / 네이버 / 카카오톡 / 다음 /네이트ZZANN 자사몰에 입점된...\n",
       "31             타킷형 채널반려동물이란 타킷된 시장으로 관련 모임 산업 등에 집중 마케팅\n",
       "32    캠퍼스 홍보단을 주축으로 지역별 유학생/이민회 SNS 중심 온/오프라인 확장1) C...\n",
       "33             직접 영업 및 블로그 작업  SNS페이스북 인스타그램 네이버블로그 마케팅\n",
       "34    직접 판매 간접  ( / ) 판매 학계 업계 활용대학 연구소 / (KAIST   )...\n",
       "35                    직접 판매 (웹사이트)유튜브 블로그 등을 통한 컨텐츠 마케팅\n",
       "36    기존 온라인 SNS를 활용한 컨텐츠 위주 마케팅스포티파이 피치포크 레딧 노션 유튜브 틱톡\n",
       "37    직접 판매 간접 판매 의료기기 전문 업체와 MOU체결 및 판로 확보 국내 의료학회 ...\n",
       "38    유튜브 채널을 통한 마케팅 SNS를 활용한 이슈 확산출시되기에 앞서 원소에 대한 재...\n",
       "39    □ 3단계 : 수익성 강화 (2022년 2/4분기)‣ 주차장 시장 파이의 확대- 국...\n",
       "40       직접 판매유튜브 콘텐츠형 광고로 고객 유입 도모제휴 업체 직접 영업으로 영업망 확대\n",
       "41    SNS 홍보/바이럴/인풀루언서•해외 인플루언서 마케팅 진행 중 SNS 퍼포먼스 마케...\n",
       "Name: 마케팅채널, dtype: object"
      ]
     },
     "execution_count": 35,
     "metadata": {},
     "output_type": "execute_result"
    }
   ],
   "source": [
    "df_2021_sta['마케팅채널'].apply(func1)"
   ]
  },
  {
   "cell_type": "code",
   "execution_count": 36,
   "metadata": {},
   "outputs": [
    {
     "name": "stdout",
     "output_type": "stream",
     "text": [
      "<class 'pandas.core.frame.DataFrame'>\n",
      "RangeIndex: 42 entries, 0 to 41\n",
      "Data columns (total 22 columns):\n",
      " #   Column   Non-Null Count  Dtype  \n",
      "---  ------   --------------  -----  \n",
      " 0   번호       42 non-null     int64  \n",
      " 1   사업자등록번호  0 non-null      float64\n",
      " 2   법인번호     0 non-null      float64\n",
      " 3   기업명      42 non-null     object \n",
      " 4   고객 세그먼트  42 non-null     object \n",
      " 5   label    42 non-null     int64  \n",
      " 6   가치제안     42 non-null     object \n",
      " 7   label.1  42 non-null     int64  \n",
      " 8   마케팅채널    42 non-null     object \n",
      " 9   label.2  42 non-null     int64  \n",
      " 10  고객관계     42 non-null     object \n",
      " 11  label.3  42 non-null     int64  \n",
      " 12  수익원      42 non-null     object \n",
      " 13  label.4  42 non-null     int64  \n",
      " 14  핵심활동     42 non-null     object \n",
      " 15  label.5  42 non-null     int64  \n",
      " 16  핵심자원     42 non-null     object \n",
      " 17  label.6  42 non-null     int64  \n",
      " 18  핵심파트너    42 non-null     object \n",
      " 19  label.7  42 non-null     int64  \n",
      " 20  비용구조     42 non-null     object \n",
      " 21  label.8  42 non-null     int64  \n",
      "dtypes: float64(2), int64(10), object(10)\n",
      "memory usage: 7.3+ KB\n"
     ]
    }
   ],
   "source": [
    "df_2021_sta.info()"
   ]
  },
  {
   "cell_type": "code",
   "execution_count": 37,
   "metadata": {},
   "outputs": [],
   "source": [
    "for i in df_list : \n",
    "    i['고객 세그먼트'] = i['고객 세그먼트'].apply(func1)\n",
    "    i['가치제안'] = i['가치제안'].apply(func1)\n",
    "    i['마케팅채널'] = i['마케팅채널'].apply(func1)\n",
    "    i['고객관계'] = i['고객관계'].apply(func1)\n",
    "    i['수익원'] = i['수익원'].apply(func1)\n",
    "    i['핵심활동'] = i['핵심활동'].apply(func1)\n",
    "    i['핵심자원'] = i['핵심자원'].apply(func1)\n",
    "    i['핵심파트너'] = i['핵심파트너'].apply(func1)\n",
    "    i['비용구조'] = i['비용구조'].apply(func1)"
   ]
  },
  {
   "cell_type": "code",
   "execution_count": 38,
   "metadata": {},
   "outputs": [],
   "source": [
    "def func2(data):\n",
    "    if data == \"A\" : \n",
    "        return 0\n",
    "    elif data == \"B\" : \n",
    "        return 1\n",
    "    else :\n",
    "        return 2"
   ]
  },
  {
   "cell_type": "code",
   "execution_count": 39,
   "metadata": {},
   "outputs": [
    {
     "data": {
      "text/plain": [
       "['번호',\n",
       " '사업자등록번호',\n",
       " '법인번호',\n",
       " '기업명',\n",
       " '고객 세그먼트',\n",
       " 'label',\n",
       " '가치제안',\n",
       " 'label.1',\n",
       " '마케팅채널',\n",
       " 'label.2',\n",
       " '고객관계',\n",
       " 'label.3',\n",
       " '수익원',\n",
       " 'label.4',\n",
       " '핵심활동',\n",
       " 'label.5',\n",
       " '핵심자원',\n",
       " 'label.6',\n",
       " '핵심파트너',\n",
       " 'label.7',\n",
       " '비용구조',\n",
       " 'label.8']"
      ]
     },
     "execution_count": 39,
     "metadata": {},
     "output_type": "execute_result"
    }
   ],
   "source": [
    "df_2021_pre.columns.tolist()"
   ]
  },
  {
   "cell_type": "code",
   "execution_count": 28,
   "metadata": {},
   "outputs": [],
   "source": [
    "for i in df_list : \n",
    "    i['label'] = i['label'].apply(func2)\n",
    "    i['label.1'] = i['label.1'].apply(func2)\n",
    "    i['label.2'] = i['label.2'].apply(func2)\n",
    "    i['label.3'] = i['label.3'].apply(func2)\n",
    "    i['label.4'] = i['label.4'].apply(func2)\n",
    "    i['label.5'] = i['label.5'].apply(func2)\n",
    "    i['label.6'] = i['label.6'].apply(func2)\n",
    "    i['label.7'] = i['label.7'].apply(func2)\n",
    "    i['label.8'] = i['label.8'].apply(func2)"
   ]
  },
  {
   "cell_type": "code",
   "execution_count": 29,
   "metadata": {},
   "outputs": [],
   "source": [
    "df_2021_pre.to_csv('./data/df_2021_pre.csv', index = False)\n",
    "df_2021_sta.to_csv('./data/df_2021_sta.csv', index = False)\n",
    "df_2022_pre.to_csv('./data/df_2022_pre.csv', index = False)\n",
    "df_2022_sta.to_csv('./data/df_2022_sta.csv', index = False)\n",
    "\n",
    "# df_2021_pre.to_csv('./data/df_2021_pre.txt', sep = '\\t', index = False)\n",
    "# df_2021_sta.to_csv('./data/df_2021_sta.txt', sep = '\\t', index = False)\n",
    "# df_2022_pre.to_csv('./data/df_2022_pre.txt', sep = '\\t', index = False)\n",
    "# df_2022_sta.to_csv('./data/df_2022_sta.txt', sep = '\\t', index = False)"
   ]
  },
  {
   "cell_type": "markdown",
   "metadata": {},
   "source": [
    "## 8개의 컬럼으로 분할"
   ]
  },
  {
   "cell_type": "code",
   "execution_count": 41,
   "metadata": {},
   "outputs": [],
   "source": [
    "import pandas as pd \n",
    "from settings import *\n",
    "\n",
    "info_list = glob.glob(f'{DATA_DIR}/info/*.csv')\n",
    "\n",
    "df_2021_pre = pd.read_csv(info_list[0])\n",
    "df_2021_sta = pd.read_csv(info_list[1])\n",
    "df_2022_pre = pd.read_csv(info_list[2])\n",
    "df_2022_sta = pd.read_csv(info_list[3])\n",
    "# it = pd.read_csv(info_list[1], encoding='cp949')\n",
    "\n",
    "\n",
    "rename_manu = {\n",
    "    '번호': 'CompanyNo', \n",
    "    '기업명':'CompanyName', \n",
    "    '고객 세그먼트': 'CustomerSeg', \n",
    "    'label': 'Seg_label',\n",
    "    '가치제안':'ValueProposition', \n",
    "    'label.1': 'Value_label',\n",
    "    '마케팅채널':'Channels', \n",
    "    'label.2':'Ch_label',\n",
    "    '고객관계':'CustomerRelation', \n",
    "    'label.3':'Relation_label',\n",
    "    '수익원':'Revenue', \n",
    "    'label.4':'Rev_label',\n",
    "    '핵심활동':'KeyActivities',\n",
    "    'label.5':'Act_label', \n",
    "    '핵심자원':'KeyResources',\n",
    "    'label.6':'Res_label', \n",
    "    '핵심파트너':'KeyPartners',\n",
    "    'label.7': 'Part_label', \n",
    "    '비용구조':'Cost',\n",
    "    'label.8':'Cost_label'\n",
    "}\n",
    "\n",
    "\n",
    "\n",
    "target_col = [\n",
    "    'CompanyNo', 'CompanyName', 'CustomerSeg', 'ValueProposition', \n",
    "    'Channels', 'CustomerRelation', 'Revenue', 'KeyActivities', \n",
    "    'KeyResources', 'KeyPartners','Cost']\n",
    "\n",
    "\n",
    "df_2021_pre = df_2021_pre.rename(columns=rename_manu)\n",
    "df_2021_sta = df_2021_sta.rename(columns=rename_manu)\n",
    "df_2022_pre = df_2022_pre.rename(columns=rename_manu)\n",
    "df_2022_sta = df_2022_sta.rename(columns=rename_manu)\n",
    "# re_it = it.rename(columns=rename_it)\n",
    "\n",
    "values = ['CustomerSeg', 'ValueProposition', 'Channels', 'CustomerRelation', 'Revenue', 'KeyActivities', 'KeyResources', 'KeyPartners', 'Cost']\n",
    "labels = ['Seg_label', 'Value_label', 'Ch_label', 'Relation_label', 'Rev_label', 'Act_label', 'Res_label', 'Part_label', 'Cost_label']\n",
    "\n",
    "\n",
    "for value, label in zip(values, labels):\n",
    "    cols = ['CompanyNo', 'CompanyName'] + [value, label]\n",
    "    total = pd.concat([df_2021_pre.loc[:, cols], df_2021_sta.loc[:, cols], df_2022_pre.loc[:, cols], df_2022_sta.loc[:, cols]], axis=0)\n",
    "    # total = pd.DataFrame(df_2021_pre.loc[:, cols])\n",
    "    total.rename(columns={label:'label'}, inplace=True)\n",
    "    total.to_csv(f'{DATA_DIR}/{value}.csv', encoding='utf-8-sig', index=False)\n"
   ]
  },
  {
   "cell_type": "markdown",
   "metadata": {},
   "source": [
    "# 데이터 정제2"
   ]
  },
  {
   "cell_type": "code",
   "execution_count": 42,
   "metadata": {},
   "outputs": [],
   "source": [
    "import numpy as np\n",
    "import pandas as pd \n",
    "from settings import *\n",
    "\n",
    "from sklearn.model_selection import train_test_split\n",
    "\n",
    "data_list = glob.glob(f'{DATA_DIR}/*.csv')\n",
    "\n",
    "dt_list = ['Channels', 'Cost', 'CustomerRelation', 'CustomerSeg', 'KeyActivities', 'KeyPartners', 'KeyResources', 'Revenue', 'ValueProposition']\n",
    "Channels = pd.read_csv(data_list[0])\n",
    "Cost = pd.read_csv(data_list[1])\n",
    "CustomerRelation = pd.read_csv(data_list[2])\n",
    "CustomerSeg = pd.read_csv(data_list[3])\n",
    "KeyActivities = pd.read_csv(data_list[4])\n",
    "KeyPartners = pd.read_csv(data_list[5])\n",
    "KeyResources = pd.read_csv(data_list[6])\n",
    "Revenue = pd.read_csv(data_list[7])\n",
    "ValueProposition = pd.read_csv(data_list[8])"
   ]
  },
  {
   "cell_type": "code",
   "execution_count": 17,
   "metadata": {},
   "outputs": [],
   "source": [
    "X_train, X_test = train_test_split(Channels, test_size=0.2, random_state=1234)\n",
    "X_train.to_csv('./data/Channels_train.txt', sep = '\\t', index = False)\n",
    "X_test.to_csv('./data/Channels_test.txt', sep = '\\t', index = False)\n",
    "\n",
    "X_train, X_test = train_test_split(Cost, test_size=0.2, random_state=1234)\n",
    "X_train.to_csv('./data/Cost_train.txt', sep = '\\t', index = False)\n",
    "X_test.to_csv('./data/Cost_test.txt', sep = '\\t', index = False)\n",
    "\n",
    "X_train, X_test = train_test_split(CustomerRelation, test_size=0.2, random_state=1234)\n",
    "X_train.to_csv('./data/CustomerRelation_train.txt', sep = '\\t', index = False)\n",
    "X_test.to_csv('./data/CustomerRelation_test.txt', sep = '\\t', index = False)\n",
    "\n",
    "X_train, X_test = train_test_split(CustomerSeg, test_size=0.2, random_state=1234)\n",
    "X_train.to_csv('./data/CustomerSeg_train.txt', sep = '\\t', index = False)\n",
    "X_test.to_csv('./data/CustomerSeg_test.txt', sep = '\\t', index = False)\n",
    "\n",
    "X_train, X_test = train_test_split(KeyActivities, test_size=0.2, random_state=1234)\n",
    "X_train.to_csv('./data/KeyActivities_train.txt', sep = '\\t', index = False)\n",
    "X_test.to_csv('./data/KeyActivities_test.txt', sep = '\\t', index = False)\n",
    "\n",
    "X_train, X_test = train_test_split(KeyPartners, test_size=0.2, random_state=1234)\n",
    "X_train.to_csv('./data/KeyPartners_train.txt', sep = '\\t', index = False)\n",
    "X_test.to_csv('./data/KeyPartners_test.txt', sep = '\\t', index = False)\n",
    "\n",
    "X_train, X_test = train_test_split(KeyResources, test_size=0.2, random_state=1234)\n",
    "X_train.to_csv('./data/KeyResources_train.txt', sep = '\\t', index = False)\n",
    "X_test.to_csv('./data/KeyResources_test.txt', sep = '\\t', index = False)\n",
    "\n",
    "X_train, X_test = train_test_split(Revenue, test_size=0.2, random_state=1234)\n",
    "X_train.to_csv('./data/Revenue_train.txt', sep = '\\t', index = False)\n",
    "X_test.to_csv('./data/Revenue_test.txt', sep = '\\t', index = False)\n",
    "\n",
    "X_train, X_test = train_test_split(ValueProposition, test_size=0.2, random_state=1234)\n",
    "X_train.to_csv('./data/ValueProposition_train.txt', sep = '\\t', index = False)\n",
    "X_test.to_csv('./data/ValueProposition_test.txt', sep = '\\t', index = False)"
   ]
  },
  {
   "cell_type": "code",
   "execution_count": null,
   "metadata": {},
   "outputs": [],
   "source": []
  }
 ],
 "metadata": {
  "kernelspec": {
   "display_name": "Python 3.10.6 64-bit",
   "language": "python",
   "name": "python3"
  },
  "language_info": {
   "codemirror_mode": {
    "name": "ipython",
    "version": 3
   },
   "file_extension": ".py",
   "mimetype": "text/x-python",
   "name": "python",
   "nbconvert_exporter": "python",
   "pygments_lexer": "ipython3",
   "version": "3.10.6"
  },
  "orig_nbformat": 4,
  "vscode": {
   "interpreter": {
    "hash": "369f2c481f4da34e4445cda3fffd2e751bd1c4d706f27375911949ba6bb62e1c"
   }
  }
 },
 "nbformat": 4,
 "nbformat_minor": 2
}
